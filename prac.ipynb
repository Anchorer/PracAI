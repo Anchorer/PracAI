{
 "cells": [
  {
   "cell_type": "code",
   "execution_count": 5,
   "metadata": {
    "collapsed": false
   },
   "outputs": [
    {
     "name": "stdout",
     "output_type": "stream",
     "text": [
      "5\n[3, 'hello', 1, 7]\n('list_x[0]: ', 3)\n('list_x[-1]: ', 7)\n('list_x[-2]: ', 1)\n('list_x[:]: ', [3, 'hello', 1, 7])\n('list_x[2:]: ', [1, 7])\n('list_x[1:3]: ', ['hello', 1])\n('list_x[:-1]: ', [3, 'hello', 1])\n[3, 'hello', 1, 7, 2.4, 'world']\n"
     ]
    }
   ],
   "source": [
    "x = 5\n",
    "print (x)\n",
    "\n",
    "list_x = [3, \"hello\", 1, 7]\n",
    "print (list_x)\n",
    "print (\"list_x[0]: \", list_x[0])\n",
    "print (\"list_x[-1]: \", list_x[-1])  # 访问最后的元素\n",
    "print (\"list_x[-2]: \", list_x[-2])  # 访问倒数第二个元素\n",
    "\n",
    "print (\"list_x[:]: \", list_x[:])\n",
    "print (\"list_x[2:]: \", list_x[2:])\n",
    "print (\"list_x[1:3]: \", list_x[1:3])  # 不包含3\n",
    "print (\"list_x[:-1]: \", list_x[:-1])  # 不包含最后一位\n",
    "\n",
    "list_y = [2.4, \"world\"]\n",
    "list_z = list_x + list_y\n",
    "print (list_z)"
   ]
  },
  {
   "cell_type": "code",
   "execution_count": 7,
   "metadata": {},
   "outputs": [
    {
     "name": "stdout",
     "output_type": "stream",
     "text": [
      "(1.0, 2, 'hello')\n(1.0, 2, 'hello', 5.6)\n"
     ]
    }
   ],
   "source": [
    "tuple_x = (1.0, 2, \"hello\")\n",
    "print (tuple_x)\n",
    "\n",
    "tuple_x += (5.6,)\n",
    "print (tuple_x)"
   ]
  },
  {
   "cell_type": "code",
   "execution_count": 11,
   "metadata": {},
   "outputs": [
    {
     "name": "stdout",
     "output_type": "stream",
     "text": [
      "{'age': '1', 'name': 'Anchorer'}\nAnchorer\n1\n{'eye_color': 'black', 'age': '1', 'name': 'Anchorer'}\n"
     ]
    }
   ],
   "source": [
    "dic = {\n",
    "    \"name\": \"Anchorer\",\n",
    "    \"age\": \"1\"\n",
    "}\n",
    "print (dic)\n",
    "print (dic[\"name\"])\n",
    "print (dic[\"age\"])\n",
    "\n",
    "dic[\"eye_color\"] = \"black\"\n",
    "print (dic)"
   ]
  },
  {
   "cell_type": "code",
   "execution_count": 12,
   "metadata": {},
   "outputs": [
    {
     "name": "stdout",
     "output_type": "stream",
     "text": [
      "high\n"
     ]
    }
   ],
   "source": [
    "x = 4\n",
    "if x <= 1:\n",
    "    score = \"low\"\n",
    "elif x < 4:\n",
    "    score = \"medium\"\n",
    "else:\n",
    "    score = \"high\"\n",
    "print (score)"
   ]
  },
  {
   "cell_type": "code",
   "execution_count": 16,
   "metadata": {},
   "outputs": [
    {
     "name": "stdout",
     "output_type": "stream",
     "text": [
      "i = 0, x = 2\ni = 1, x = 3\ni = 2, x = 4\n2\n1\n0\n"
     ]
    }
   ],
   "source": [
    "x = 1\n",
    "for i in range(3):\n",
    "    x += 1\n",
    "    print (\"i = {0}, x = {1}\".format(i, x))\n",
    "    \n",
    "\n",
    "x = 3\n",
    "while x > 0:\n",
    "    x -= 1\n",
    "    print x\n",
    "\n"
   ]
  },
  {
   "cell_type": "code",
   "execution_count": 15,
   "metadata": {},
   "outputs": [
    {
     "name": "stdout",
     "output_type": "stream",
     "text": [
      "3\n"
     ]
    }
   ],
   "source": [
    "def add_two(x):\n",
    "    x += 2\n",
    "    return x\n",
    "\n",
    "\n",
    "score = 1\n",
    "score = add_two(score)\n",
    "print score\n"
   ]
  },
  {
   "cell_type": "code",
   "execution_count": 19,
   "metadata": {},
   "outputs": [
    {
     "name": "stdout",
     "output_type": "stream",
     "text": [
      "Du Anchorer\n"
     ]
    }
   ],
   "source": [
    "def join_name(first_name, last_name):\n",
    "    joined_name = first_name + \" \" + last_name\n",
    "    return joined_name\n",
    "\n",
    "\n",
    "first_name = \"Du\"\n",
    "last_name = \"Anchorer\"\n",
    "joined_name = join_name(first_name, last_name)\n",
    "print joined_name\n",
    "\n"
   ]
  },
  {
   "cell_type": "code",
   "execution_count": 21,
   "metadata": {},
   "outputs": [
    {
     "name": "stdout",
     "output_type": "stream",
     "text": [
      "name:Dog age:4 color:Yellow\nDog\nname:Doggy age:4 color:Yellow\n"
     ]
    }
   ],
   "source": [
    "class Pets(object):\n",
    "    def __init__(self, name, age, color):\n",
    "        self.name = name\n",
    "        self.age = age\n",
    "        self.color = color\n",
    "        \n",
    "    def __str__(self):\n",
    "        return \"name:{0} age:{1} color:{2}\".format(self.name, self.age, self.color)\n",
    "    \n",
    "    def change_name(self, changed_name):\n",
    "        self.name = changed_name\n",
    "    \n",
    "\n",
    "my_dog = Pets(\"Dog\", 4, \"Yellow\")\n",
    "print my_dog\n",
    "print my_dog.name\n",
    "\n",
    "my_dog.change_name(\"Doggy\")\n",
    "print my_dog"
   ]
  },
  {
   "cell_type": "code",
   "execution_count": null,
   "metadata": {},
   "outputs": [],
   "source": []
  }
 ],
 "metadata": {
  "kernelspec": {
   "display_name": "Python 2",
   "language": "python",
   "name": "python2"
  },
  "language_info": {
   "codemirror_mode": {
    "name": "ipython",
    "version": 2
   },
   "file_extension": ".py",
   "mimetype": "text/x-python",
   "name": "python",
   "nbconvert_exporter": "python",
   "pygments_lexer": "ipython2",
   "version": "2.7.6"
  }
 },
 "nbformat": 4,
 "nbformat_minor": 0
}
